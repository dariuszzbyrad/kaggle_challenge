{
 "cells": [
  {
   "cell_type": "markdown",
   "metadata": {},
   "source": [
    "# House Prices: Advanced Regression Techniques\n",
    "https://www.kaggle.com/c/house-prices-advanced-regression-techniques/overview"
   ]
  },
  {
   "cell_type": "markdown",
   "metadata": {},
   "source": [
    "## Load data"
   ]
  },
  {
   "cell_type": "code",
   "execution_count": 1,
   "metadata": {},
   "outputs": [
    {
     "data": {
      "text/html": [
       "<div>\n",
       "<style scoped>\n",
       "    .dataframe tbody tr th:only-of-type {\n",
       "        vertical-align: middle;\n",
       "    }\n",
       "\n",
       "    .dataframe tbody tr th {\n",
       "        vertical-align: top;\n",
       "    }\n",
       "\n",
       "    .dataframe thead th {\n",
       "        text-align: right;\n",
       "    }\n",
       "</style>\n",
       "<table border=\"1\" class=\"dataframe\">\n",
       "  <thead>\n",
       "    <tr style=\"text-align: right;\">\n",
       "      <th></th>\n",
       "      <th>Id</th>\n",
       "      <th>MSSubClass</th>\n",
       "      <th>MSZoning</th>\n",
       "      <th>LotFrontage</th>\n",
       "      <th>LotArea</th>\n",
       "      <th>Street</th>\n",
       "      <th>Alley</th>\n",
       "      <th>LotShape</th>\n",
       "      <th>LandContour</th>\n",
       "      <th>Utilities</th>\n",
       "      <th>...</th>\n",
       "      <th>PoolArea</th>\n",
       "      <th>PoolQC</th>\n",
       "      <th>Fence</th>\n",
       "      <th>MiscFeature</th>\n",
       "      <th>MiscVal</th>\n",
       "      <th>MoSold</th>\n",
       "      <th>YrSold</th>\n",
       "      <th>SaleType</th>\n",
       "      <th>SaleCondition</th>\n",
       "      <th>SalePrice</th>\n",
       "    </tr>\n",
       "  </thead>\n",
       "  <tbody>\n",
       "    <tr>\n",
       "      <th>0</th>\n",
       "      <td>1</td>\n",
       "      <td>60</td>\n",
       "      <td>RL</td>\n",
       "      <td>65.0</td>\n",
       "      <td>8450</td>\n",
       "      <td>Pave</td>\n",
       "      <td>NaN</td>\n",
       "      <td>Reg</td>\n",
       "      <td>Lvl</td>\n",
       "      <td>AllPub</td>\n",
       "      <td>...</td>\n",
       "      <td>0</td>\n",
       "      <td>NaN</td>\n",
       "      <td>NaN</td>\n",
       "      <td>NaN</td>\n",
       "      <td>0</td>\n",
       "      <td>2</td>\n",
       "      <td>2008</td>\n",
       "      <td>WD</td>\n",
       "      <td>Normal</td>\n",
       "      <td>208500</td>\n",
       "    </tr>\n",
       "    <tr>\n",
       "      <th>1</th>\n",
       "      <td>2</td>\n",
       "      <td>20</td>\n",
       "      <td>RL</td>\n",
       "      <td>80.0</td>\n",
       "      <td>9600</td>\n",
       "      <td>Pave</td>\n",
       "      <td>NaN</td>\n",
       "      <td>Reg</td>\n",
       "      <td>Lvl</td>\n",
       "      <td>AllPub</td>\n",
       "      <td>...</td>\n",
       "      <td>0</td>\n",
       "      <td>NaN</td>\n",
       "      <td>NaN</td>\n",
       "      <td>NaN</td>\n",
       "      <td>0</td>\n",
       "      <td>5</td>\n",
       "      <td>2007</td>\n",
       "      <td>WD</td>\n",
       "      <td>Normal</td>\n",
       "      <td>181500</td>\n",
       "    </tr>\n",
       "    <tr>\n",
       "      <th>2</th>\n",
       "      <td>3</td>\n",
       "      <td>60</td>\n",
       "      <td>RL</td>\n",
       "      <td>68.0</td>\n",
       "      <td>11250</td>\n",
       "      <td>Pave</td>\n",
       "      <td>NaN</td>\n",
       "      <td>IR1</td>\n",
       "      <td>Lvl</td>\n",
       "      <td>AllPub</td>\n",
       "      <td>...</td>\n",
       "      <td>0</td>\n",
       "      <td>NaN</td>\n",
       "      <td>NaN</td>\n",
       "      <td>NaN</td>\n",
       "      <td>0</td>\n",
       "      <td>9</td>\n",
       "      <td>2008</td>\n",
       "      <td>WD</td>\n",
       "      <td>Normal</td>\n",
       "      <td>223500</td>\n",
       "    </tr>\n",
       "    <tr>\n",
       "      <th>3</th>\n",
       "      <td>4</td>\n",
       "      <td>70</td>\n",
       "      <td>RL</td>\n",
       "      <td>60.0</td>\n",
       "      <td>9550</td>\n",
       "      <td>Pave</td>\n",
       "      <td>NaN</td>\n",
       "      <td>IR1</td>\n",
       "      <td>Lvl</td>\n",
       "      <td>AllPub</td>\n",
       "      <td>...</td>\n",
       "      <td>0</td>\n",
       "      <td>NaN</td>\n",
       "      <td>NaN</td>\n",
       "      <td>NaN</td>\n",
       "      <td>0</td>\n",
       "      <td>2</td>\n",
       "      <td>2006</td>\n",
       "      <td>WD</td>\n",
       "      <td>Abnorml</td>\n",
       "      <td>140000</td>\n",
       "    </tr>\n",
       "    <tr>\n",
       "      <th>4</th>\n",
       "      <td>5</td>\n",
       "      <td>60</td>\n",
       "      <td>RL</td>\n",
       "      <td>84.0</td>\n",
       "      <td>14260</td>\n",
       "      <td>Pave</td>\n",
       "      <td>NaN</td>\n",
       "      <td>IR1</td>\n",
       "      <td>Lvl</td>\n",
       "      <td>AllPub</td>\n",
       "      <td>...</td>\n",
       "      <td>0</td>\n",
       "      <td>NaN</td>\n",
       "      <td>NaN</td>\n",
       "      <td>NaN</td>\n",
       "      <td>0</td>\n",
       "      <td>12</td>\n",
       "      <td>2008</td>\n",
       "      <td>WD</td>\n",
       "      <td>Normal</td>\n",
       "      <td>250000</td>\n",
       "    </tr>\n",
       "  </tbody>\n",
       "</table>\n",
       "<p>5 rows × 81 columns</p>\n",
       "</div>"
      ],
      "text/plain": [
       "   Id  MSSubClass MSZoning  LotFrontage  LotArea Street Alley LotShape  \\\n",
       "0   1          60       RL         65.0     8450   Pave   NaN      Reg   \n",
       "1   2          20       RL         80.0     9600   Pave   NaN      Reg   \n",
       "2   3          60       RL         68.0    11250   Pave   NaN      IR1   \n",
       "3   4          70       RL         60.0     9550   Pave   NaN      IR1   \n",
       "4   5          60       RL         84.0    14260   Pave   NaN      IR1   \n",
       "\n",
       "  LandContour Utilities    ...     PoolArea PoolQC Fence MiscFeature MiscVal  \\\n",
       "0         Lvl    AllPub    ...            0    NaN   NaN         NaN       0   \n",
       "1         Lvl    AllPub    ...            0    NaN   NaN         NaN       0   \n",
       "2         Lvl    AllPub    ...            0    NaN   NaN         NaN       0   \n",
       "3         Lvl    AllPub    ...            0    NaN   NaN         NaN       0   \n",
       "4         Lvl    AllPub    ...            0    NaN   NaN         NaN       0   \n",
       "\n",
       "  MoSold YrSold  SaleType  SaleCondition  SalePrice  \n",
       "0      2   2008        WD         Normal     208500  \n",
       "1      5   2007        WD         Normal     181500  \n",
       "2      9   2008        WD         Normal     223500  \n",
       "3      2   2006        WD        Abnorml     140000  \n",
       "4     12   2008        WD         Normal     250000  \n",
       "\n",
       "[5 rows x 81 columns]"
      ]
     },
     "execution_count": 1,
     "metadata": {},
     "output_type": "execute_result"
    }
   ],
   "source": [
    "import pandas as pd\n",
    "\n",
    "df = pd.read_csv('data/train.csv')\n",
    "\n",
    "df.head()"
   ]
  },
  {
   "cell_type": "markdown",
   "metadata": {},
   "source": [
    "## Feature Engineering"
   ]
  },
  {
   "cell_type": "markdown",
   "metadata": {},
   "source": [
    "### Check not number columns "
   ]
  },
  {
   "cell_type": "code",
   "execution_count": 2,
   "metadata": {},
   "outputs": [
    {
     "data": {
      "text/plain": [
       "Index(['MSZoning', 'Street', 'Alley', 'LotShape', 'LandContour', 'Utilities',\n",
       "       'LotConfig', 'LandSlope', 'Neighborhood', 'Condition1', 'Condition2',\n",
       "       'BldgType', 'HouseStyle', 'RoofStyle', 'RoofMatl', 'Exterior1st',\n",
       "       'Exterior2nd', 'MasVnrType', 'ExterQual', 'ExterCond', 'Foundation',\n",
       "       'BsmtQual', 'BsmtCond', 'BsmtExposure', 'BsmtFinType1', 'BsmtFinType2',\n",
       "       'Heating', 'HeatingQC', 'CentralAir', 'Electrical', 'KitchenQual',\n",
       "       'Functional', 'FireplaceQu', 'GarageType', 'GarageFinish', 'GarageQual',\n",
       "       'GarageCond', 'PavedDrive', 'PoolQC', 'Fence', 'MiscFeature',\n",
       "       'SaleType', 'SaleCondition'],\n",
       "      dtype='object')"
      ]
     },
     "execution_count": 2,
     "metadata": {},
     "output_type": "execute_result"
    }
   ],
   "source": [
    "not_number_columns = df.columns[df.dtypes == object]\n",
    "not_number_columns"
   ]
  },
  {
   "cell_type": "code",
   "execution_count": 3,
   "metadata": {},
   "outputs": [
    {
     "name": "stdout",
     "output_type": "stream",
     "text": [
      "Number of not number columns: 43\n"
     ]
    }
   ],
   "source": [
    "print(\"Number of not number columns:\", not_number_columns.size)"
   ]
  },
  {
   "cell_type": "markdown",
   "metadata": {},
   "source": [
    "### Map them to N-1 binary columns"
   ]
  },
  {
   "cell_type": "markdown",
   "metadata": {},
   "source": [
    "Calculate how many unique values has each not number column"
   ]
  },
  {
   "cell_type": "code",
   "execution_count": 4,
   "metadata": {},
   "outputs": [
    {
     "name": "stdout",
     "output_type": "stream",
     "text": [
      "MSZoning  -  5\n",
      "Street  -  2\n",
      "Alley  -  2\n",
      "LotShape  -  4\n",
      "LandContour  -  4\n",
      "Utilities  -  2\n",
      "LotConfig  -  5\n",
      "LandSlope  -  3\n",
      "Neighborhood  -  25\n",
      "Condition1  -  9\n",
      "Condition2  -  8\n",
      "BldgType  -  5\n",
      "HouseStyle  -  8\n",
      "RoofStyle  -  6\n",
      "RoofMatl  -  8\n",
      "Exterior1st  -  15\n",
      "Exterior2nd  -  16\n",
      "MasVnrType  -  4\n",
      "ExterQual  -  4\n",
      "ExterCond  -  5\n",
      "Foundation  -  6\n",
      "BsmtQual  -  4\n",
      "BsmtCond  -  4\n",
      "BsmtExposure  -  4\n",
      "BsmtFinType1  -  6\n",
      "BsmtFinType2  -  6\n",
      "Heating  -  6\n",
      "HeatingQC  -  5\n",
      "CentralAir  -  2\n",
      "Electrical  -  5\n",
      "KitchenQual  -  4\n",
      "Functional  -  7\n",
      "FireplaceQu  -  5\n",
      "GarageType  -  6\n",
      "GarageFinish  -  3\n",
      "GarageQual  -  5\n",
      "GarageCond  -  5\n",
      "PavedDrive  -  3\n",
      "PoolQC  -  3\n",
      "Fence  -  4\n",
      "MiscFeature  -  4\n",
      "SaleType  -  9\n",
      "SaleCondition  -  6\n",
      "\n",
      "New columns: 209\n"
     ]
    }
   ],
   "source": [
    "number_of_new_columns = 0\n",
    "for col_name in not_number_columns:\n",
    "    nunique = df[col_name].nunique()\n",
    "    number_of_new_columns += nunique-1\n",
    "    print(col_name, \" - \", nunique)\n",
    "\n",
    "print(\"\\nNew columns:\", number_of_new_columns)"
   ]
  },
  {
   "cell_type": "markdown",
   "metadata": {},
   "source": [
    "Not looks good. If we use map them to N-1 binary columns, we will have a new 209 columns and 290 features, but we try it..."
   ]
  },
  {
   "cell_type": "code",
   "execution_count": 5,
   "metadata": {},
   "outputs": [],
   "source": [
    "df = pd.get_dummies(df)"
   ]
  },
  {
   "cell_type": "markdown",
   "metadata": {},
   "source": [
    "### Convert all NaN values to 0"
   ]
  },
  {
   "cell_type": "code",
   "execution_count": 6,
   "metadata": {},
   "outputs": [],
   "source": [
    "df = df.fillna(0)"
   ]
  },
  {
   "cell_type": "markdown",
   "metadata": {},
   "source": [
    "### Convert float64 column type to float32\n",
    "SVM doesn't support float64, so we need change it to float32"
   ]
  },
  {
   "cell_type": "code",
   "execution_count": 7,
   "metadata": {},
   "outputs": [
    {
     "data": {
      "text/plain": [
       "Index(['LotFrontage', 'MasVnrArea', 'GarageYrBlt'], dtype='object')"
      ]
     },
     "execution_count": 7,
     "metadata": {},
     "output_type": "execute_result"
    }
   ],
   "source": [
    "import numpy as np\n",
    "\n",
    "float64_columns = df.columns[df.dtypes == np.float64]\n",
    "float64_columns"
   ]
  },
  {
   "cell_type": "code",
   "execution_count": 8,
   "metadata": {},
   "outputs": [],
   "source": [
    "for col_name in float64_columns:\n",
    "    df[col_name] = df[col_name].astype(np.float32)"
   ]
  },
  {
   "cell_type": "code",
   "execution_count": 9,
   "metadata": {},
   "outputs": [
    {
     "name": "stdout",
     "output_type": "stream",
     "text": [
      "Number of rows: 1460\n",
      "Number of features: 290\n"
     ]
    }
   ],
   "source": [
    "print(\"Number of rows:\", df.shape[0])\n",
    "print(\"Number of features:\", df.shape[1])"
   ]
  },
  {
   "cell_type": "markdown",
   "metadata": {},
   "source": [
    "The data set contains 290 source features and only 1460 examples. The ratio features to examples aren't so good, so the plan is the limit of the features, maybe some features can be omitted. Firstly start with a genetic algorithm for select features and nextly use SVM algorithm."
   ]
  },
  {
   "cell_type": "markdown",
   "metadata": {},
   "source": [
    "## Split data \n",
    "Test data frame - 20%\n",
    "Train data frame - 80%"
   ]
  },
  {
   "cell_type": "code",
   "execution_count": 10,
   "metadata": {},
   "outputs": [],
   "source": [
    "from sklearn.model_selection import train_test_split\n",
    "\n",
    "train_df, test_df = train_test_split(df, test_size=0.2)"
   ]
  },
  {
   "cell_type": "code",
   "execution_count": 11,
   "metadata": {},
   "outputs": [
    {
     "name": "stdout",
     "output_type": "stream",
     "text": [
      "Number of training samples:  1168\n",
      "Number of test samples:  292\n"
     ]
    }
   ],
   "source": [
    "X_train = train_df.drop(['SalePrice'], axis=1)\n",
    "y_train = train_df['SalePrice']\n",
    "\n",
    "X_test = test_df.drop(['SalePrice'], axis=1)\n",
    "y_test = test_df['SalePrice']\n",
    "\n",
    "print(\"Number of training samples: \", X_train.shape[0])\n",
    "print(\"Number of test samples: \", X_test.shape[0])"
   ]
  },
  {
   "cell_type": "markdown",
   "metadata": {},
   "source": [
    "## Support Vector Machine Algorithm\n",
    "Before start working with a genetic algorithm, we need to try to find the best hyperparameters for SVM and all features"
   ]
  },
  {
   "cell_type": "markdown",
   "metadata": {},
   "source": [
    "### Try find the best hyperparameters"
   ]
  },
  {
   "cell_type": "code",
   "execution_count": 12,
   "metadata": {},
   "outputs": [
    {
     "data": {
      "text/plain": [
       "<matplotlib.collections.PathCollection at 0x2700b307978>"
      ]
     },
     "execution_count": 12,
     "metadata": {},
     "output_type": "execute_result"
    },
    {
     "data": {
      "image/png": "[encoded data removed]",
      "text/plain": [
       "<Figure size 432x288 with 1 Axes>"
      ]
     },
     "metadata": {},
     "output_type": "display_data"
    }
   ],
   "source": [
    "%matplotlib inline\n",
    "import matplotlib.pyplot as plt\n",
    "from sklearn import svm\n",
    "\n",
    "results = []\n",
    "c_values = []\n",
    "for c in np.arange(0.1, 10.0, 0.5):\n",
    "    model = svm.SVC(gamma='auto', C=c)\n",
    "    model.fit(X_train, y_train)\n",
    "    score = model.score(X_test, y_test)\n",
    "    results.append(score)\n",
    "    c_values.append(c)\n",
    "    \n",
    "plt.scatter(x=c_values, y=results)"
   ]
  },
  {
   "cell_type": "markdown",
   "metadata": {},
   "source": [
    "Interestingly, it seems that regardless of parameter C, SVM can not deal with data where we have too few examples in relation to the number of features. Let's hope that the genetic algorithm will handle it."
   ]
  },
  {
   "cell_type": "markdown",
   "metadata": {},
   "source": [
    "### Prepare function for support SVM in GA\n",
    "GA preparing list of the columns which should be used for training (and test), so we need to create a function which will contain an array with true/false (should be included or not) and length the same as a number of features."
   ]
  },
  {
   "cell_type": "code",
   "execution_count": 13,
   "metadata": {},
   "outputs": [],
   "source": [
    "def trainSVMModel(X_train, y_train, X_test, y_test, columns_idx):\n",
    "    all_columns = X_train.columns\n",
    "    selected_columns = [x for x, y in zip(all_columns, columns_idx) if y]\n",
    "    X_train = X_train[selected_columns]\n",
    "    X_test = X_test[selected_columns]\n",
    "        \n",
    "    model = svm.SVC(gamma='auto', C=0.1)\n",
    "    model.fit(X_train, y_train)\n",
    "    score = model.score(X_test, y_test)\n",
    "    return score"
   ]
  },
  {
   "cell_type": "markdown",
   "metadata": {},
   "source": [
    "Just for test"
   ]
  },
  {
   "cell_type": "code",
   "execution_count": 14,
   "metadata": {},
   "outputs": [
    {
     "name": "stdout",
     "output_type": "stream",
     "text": [
      "Number of random selected columns: 140\n",
      "Score: 0.0\n"
     ]
    }
   ],
   "source": [
    "columns_idx = np.random.choice(a=[False, True], size=(289))\n",
    "score = trainSVMModel(X_train, y_train, X_test, y_test, columns_idx)\n",
    "\n",
    "print(\"Number of random selected columns:\", columns_idx.sum())\n",
    "print(\"Score:\", score)"
   ]
  },
  {
   "cell_type": "markdown",
   "metadata": {},
   "source": [
    "## Genetic Algorithm\n",
    "Use Genetic Algorithm for feature reduction"
   ]
  },
  {
   "cell_type": "code",
   "execution_count": 16,
   "metadata": {},
   "outputs": [
    {
     "ename": "ModuleNotFoundError",
     "evalue": "No module named 'GA'",
     "output_type": "error",
     "traceback": [
      "\u001b[1;31m---------------------------------------------------------------------------\u001b[0m",
      "\u001b[1;31mModuleNotFoundError\u001b[0m                       Traceback (most recent call last)",
      "\u001b[1;32m<ipython-input-16-1535062a9969>\u001b[0m in \u001b[0;36m<module>\u001b[1;34m()\u001b[0m\n\u001b[1;32m----> 1\u001b[1;33m \u001b[1;32mimport\u001b[0m \u001b[0mGA\u001b[0m\u001b[1;33m\u001b[0m\u001b[0m\n\u001b[0m\u001b[0;32m      2\u001b[0m \u001b[1;33m\u001b[0m\u001b[0m\n\u001b[0;32m      3\u001b[0m \u001b[0msol_per_pop\u001b[0m \u001b[1;33m=\u001b[0m \u001b[1;36m8\u001b[0m \u001b[1;31m# Population size.\u001b[0m\u001b[1;33m\u001b[0m\u001b[0m\n\u001b[0;32m      4\u001b[0m \u001b[0mnum_parents_mating\u001b[0m \u001b[1;33m=\u001b[0m \u001b[1;36m4\u001b[0m \u001b[1;31m# Number of parents inside the mating pool.\u001b[0m\u001b[1;33m\u001b[0m\u001b[0m\n\u001b[0;32m      5\u001b[0m \u001b[0mnum_mutations\u001b[0m \u001b[1;33m=\u001b[0m \u001b[1;36m3\u001b[0m \u001b[1;31m# Number of elements to mutate.\u001b[0m\u001b[1;33m\u001b[0m\u001b[0m\n",
      "\u001b[1;31mModuleNotFoundError\u001b[0m: No module named 'GA'"
     ]
    }
   ],
   "source": [
    "import GA\n",
    "\n",
    "sol_per_pop = 8 # Population size.\n",
    "num_parents_mating = 4 # Number of parents inside the mating pool.\n",
    "num_mutations = 3 # Number of elements to mutate.\n",
    "# Defining the population shape.\n",
    "pop_shape = (sol_per_pop, 289)\n",
    " \n",
    "# Creating the initial population.\n",
    "new_population = numpy.random.randint(low=0, high=2, size=pop_shape)\n",
    "print(new_population.shape)\n",
    " \n",
    "best_outputs = []\n",
    "num_generations = 100"
   ]
  },
  {
   "cell_type": "code",
   "execution_count": 18,
   "metadata": {},
   "outputs": [
    {
     "name": "stdout",
     "output_type": "stream",
     "text": [
      "Selecting features with genetic algorithm.\n",
      "gen\tnevals\tavg                  \tstd                    \tmin              \tmax              \n",
      "0  \t50    \t[-10000.       12.36]\t[0.         2.09532814]\t[-1.e+04  7.e+00]\t[-10000.     17.]\n",
      "1  \t31    \t[-10000.      10.7]  \t[0.        1.6881943]  \t[-1.e+04  7.e+00]\t[-10000.     15.]\n",
      "2  \t32    \t[-1.00e+04  9.46e+00]\t[0.         1.71125685]\t[-1.e+04  6.e+00]\t[-10000.     14.]\n",
      "3  \t25    \t[-9.59997547e+03  7.74000000e+00]\t[1.95971198e+03 1.50744817e+00]\t[-1.e+04  4.e+00]\t[ 0.67333333 12.        ]\n",
      "4  \t36    \t[-8.19987307e+03  6.54000000e+00]\t[3.84214547e+03 1.26822711e+00]\t[-1.e+04  4.e+00]\t[0.88666667 9.        ]  \n",
      "5  \t31    \t[-5399.68493333     5.44      ]  \t[4.98431568e+03 1.35882302e+00]\t[-1.e+04  3.e+00]\t[0.89333333 9.        ]  \n",
      "6  \t27    \t[-2399.46613333     4.58      ]  \t[4.27113131e+03 1.15047816e+00]\t[-1.e+04  3.e+00]\t[0.92 7.  ]              \n",
      "7  \t30    \t[-1199.3024     4.2   ]          \t[3.24987297e+03 1.11355287e+00]\t[-1.e+04  2.e+00]\t[0.92 7.  ]              \n",
      "8  \t29    \t[-1199.2392     4.4   ]          \t[3.24989631e+03 1.14891253e+00]\t[-1.e+04  2.e+00]\t[0.92 8.  ]              \n",
      "9  \t36    \t[-999.2136    4.48  ]            \t[3.00026213e+03 1.08148047e+00]\t[-1.e+04  2.e+00]\t[0.93333333 7.        ]  \n",
      "10 \t27    \t[-1599.2488     4.4   ]          \t[3.66638841e+03 1.14891253e+00]\t[-1.e+04  2.e+00]\t[0.93333333 6.        ]  \n",
      "11 \t26    \t[-1199.19893333     4.48      ]  \t[3.24991118e+03 1.26870012e+00]\t[-1.e+04  2.e+00]\t[0.93333333 8.        ]  \n",
      "12 \t24    \t[-199.0992    4.14  ]            \t[1.40012869e+03 1.00019998e+00]\t[-1.e+04  2.e+00]\t[0.93333333 6.        ]  \n",
      "13 \t30    \t[-599.12666667    4.28      ]    \t[2.37508906e+03 9.80612054e-01]\t[-1.e+04  2.e+00]\t[0.93333333 6.        ]  \n",
      "14 \t35    \t[-1199.18253333     4.36      ]  \t[3.24991723e+03 1.19599331e+00]\t[-1.e+04  2.e+00]\t[0.93333333 8.        ]  \n",
      "15 \t32    \t[-999.16    4.14]                \t[3.00028000e+03 1.09562767e+00]\t[-1.e+04  3.e+00]\t[0.93333333 7.        ]  \n",
      "16 \t30    \t[-599.12373333    3.48      ]    \t[2.37508980e+03 1.02449988e+00]\t[-1.e+04  2.e+00]\t[0.93333333 8.        ]  \n",
      "17 \t37    \t[0.93253333 3.26      ]          \t[0.00413978 0.65757129]        \t[0.90666667 2.        ]\t[0.93333333 5.        ]  \n",
      "18 \t30    \t[-199.08746667    3.32      ]    \t[1.40013036e+03 6.76461381e-01]\t[-1.e+04  3.e+00]      \t[0.93333333 6.        ]  \n",
      "19 \t34    \t[-199.088    3.2  ]              \t[1.40013029e+03 7.21110255e-01]\t[-1.e+04  2.e+00]      \t[0.93333333 7.        ]  \n",
      "20 \t35    \t[-799.1472    3.38  ]            \t[2.71318347e+03 9.77547953e-01]\t[-1.e+04  2.e+00]      \t[0.96 7.  ]              \n",
      "21 \t31    \t[-599.122    3.48 ]              \t[2.37509024e+03 9.84682690e-01]\t[-1.e+04  2.e+00]      \t[0.96 7.  ]              \n",
      "22 \t36    \t[-599.12586667    3.52      ]    \t[2.37508926e+03 9.43186090e-01]\t[-1.e+04  2.e+00]      \t[0.96 6.  ]              \n",
      "23 \t26    \t[-599.11173333    3.92      ]    \t[2.37509283e+03 8.90842298e-01]\t[-1.e+04  3.e+00]      \t[0.96 6.  ]              \n",
      "24 \t31    \t[-599.10213333    4.14      ]    \t[2.37509526e+03 8.00249961e-01]\t[-1.e+04  3.e+00]      \t[0.96 6.  ]              \n",
      "25 \t34    \t[-599.10026667    4.26      ]    \t[2.37509573e+03 7.43236167e-01]\t[-1.e+04  3.e+00]      \t[0.96 7.  ]              \n",
      "26 \t26    \t[-599.10026667    4.14      ]    \t[2.37509573e+03 5.66038868e-01]\t[-1.e+04  3.e+00]      \t[0.96 6.  ]              \n",
      "27 \t31    \t[-399.08093333    4.12      ]    \t[1.95977940e+03 5.15363949e-01]\t[-1.e+04  3.e+00]      \t[0.96 6.  ]              \n",
      "28 \t36    \t[-199.0592    4.16  ]            \t[1.4001344e+03 4.1761226e-01]  \t[-1.e+04  4.e+00]      \t[0.96 6.  ]              \n",
      "29 \t31    \t[-599.09773333    4.28      ]    \t[2.37509637e+03 7.22218803e-01]\t[-1.e+04  4.e+00]      \t[0.96 8.  ]              \n",
      "30 \t29    \t[0.96 4.06]                      \t[5.55111512e-16 2.37486842e-01]\t[0.96 4.  ]            \t[0.96 5.  ]              \n",
      "31 \t31    \t[-199.05933333    4.12      ]    \t[1.40013438e+03 4.74973683e-01]\t[-1.e+04  4.e+00]      \t[0.96 7.  ]              \n",
      "32 \t23    \t[-199.0604    4.04  ]            \t[1.40013423e+03 3.44093011e-01]\t[-1.e+04  3.e+00]      \t[0.96 6.  ]              \n",
      "[ True  True  True  True False False False False False False False False\n",
      " False False False False False False False False False False False False]\n"
     ]
    }
   ],
   "source": [
    "from __future__ import print_function\n",
    "import numpy as np\n",
    "from sklearn import datasets, linear_model\n",
    "\n",
    "from genetic_selection import GeneticSelectionCV\n",
    "\n",
    "\n",
    "def main():\n",
    "    iris = datasets.load_iris()\n",
    "\n",
    "    # Some noisy data not correlated\n",
    "    E = np.random.uniform(0, 0.1, size=(len(iris.data), 20))\n",
    "\n",
    "    X = np.hstack((iris.data, E))\n",
    "    y = iris.target\n",
    "\n",
    "    estimator = linear_model.LogisticRegression(solver=\"liblinear\", multi_class=\"ovr\")\n",
    "\n",
    "    selector = GeneticSelectionCV(estimator,\n",
    "                                  cv=5,\n",
    "                                  verbose=1,\n",
    "                                  scoring=\"accuracy\",\n",
    "                                  max_features=5,\n",
    "                                  n_population=50,\n",
    "                                  crossover_proba=0.5,\n",
    "                                  mutation_proba=0.2,\n",
    "                                  n_generations=40,\n",
    "                                  crossover_independent_proba=0.5,\n",
    "                                  mutation_independent_proba=0.05,\n",
    "                                  tournament_size=3,\n",
    "                                  n_gen_no_change=10,\n",
    "                                  caching=True,\n",
    "                                  n_jobs=-1)\n",
    "    selector = selector.fit(X, y)\n",
    "\n",
    "    print(selector.support_)\n",
    "\n",
    "\n",
    "if __name__ == \"__main__\":\n",
    "    main()"
   ]
  }
 ],
 "metadata": {
  "kernelspec": {
   "display_name": "Python 3",
   "language": "python",
   "name": "python3"
  },
  "language_info": {
   "codemirror_mode": {
    "name": "ipython",
    "version": 3
   },
   "file_extension": ".py",
   "mimetype": "text/x-python",
   "name": "python",
   "nbconvert_exporter": "python",
   "pygments_lexer": "ipython3",
   "version": "3.6.5"
  }
 },
 "nbformat": 4,
 "nbformat_minor": 2
}
